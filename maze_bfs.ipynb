{
 "cells": [
  {
   "cell_type": "code",
   "execution_count": 8,
   "id": "d4dbde2c",
   "metadata": {},
   "outputs": [],
   "source": [
    "import random\n",
    "def bfs(maze, start, end):\n",
    "    queue = [(start, [start])]\n",
    "    visited = set()\n",
    "    while queue:\n",
    "        (current_row, current_col), path = queue.pop(0)\n",
    "        if (current_row, current_col) == end:\n",
    "            return path\n",
    "        if (current_row, current_col) not in visited:\n",
    "            visited.add((current_row, current_col))\n",
    "            for (row_offset, col_offset) in [(-1, 0), (0, -1), (1, 0), (0, 1)]:\n",
    "                neighbor_row = current_row + row_offset\n",
    "                neighbor_col = current_col + col_offset\n",
    "                if (0 <= neighbor_row < len(maze) and\n",
    "                        0 <= neighbor_col < len(maze[0]) and\n",
    "                        maze[neighbor_row][neighbor_col] != 'X' and\n",
    "                        (neighbor_row, neighbor_col) not in visited):\n",
    "                    if maze[neighbor_row][neighbor_col] == 'E':\n",
    "                        # If the neighbor is an enchanted square, randomly teleport to another square\n",
    "                        teleport_row, teleport_col = teleport(maze, visited)\n",
    "                        queue.append(((teleport_row, teleport_col), path + [(teleport_row, teleport_col)]))\n",
    "                    else:\n",
    "                        # Otherwise, add the neighbor to the queue\n",
    "                        queue.append(((neighbor_row, neighbor_col), path + [(neighbor_row, neighbor_col)]))\n",
    "    # If no path was found, return None\n",
    "    return None\n",
    "\n",
    "\n",
    "def teleport(maze, visited):\n",
    "    # Find a random square that is not a wall or a visited square\n",
    "    while True:\n",
    "        teleport_row = random.randint(0, len(maze) - 1)\n",
    "        teleport_col = random.randint(0, len(maze[0]) - 1)\n",
    "        if maze[teleport_row][teleport_col] != 'X' and (teleport_row, teleport_col) not in visited:\n",
    "            return teleport_row, teleport_col"
   ]
  },
  {
   "cell_type": "code",
   "execution_count": 9,
   "id": "6af6864a",
   "metadata": {},
   "outputs": [],
   "source": [
    "graph = [\"X.XXXX.\",\n",
    "\"X.....E\",\n",
    "\"XXXXXX.\",\n",
    "\".......\",\n",
    "\"E......\",\n",
    "\".X.XXXX\"]"
   ]
  },
  {
   "cell_type": "code",
   "execution_count": 10,
   "id": "b0dfe9a7",
   "metadata": {},
   "outputs": [
    {
     "data": {
      "text/plain": [
       "[(1, 1), (1, 2), (1, 3), (1, 4), (1, 5), (3, 1), (4, 1), (4, 4), (4, 5)]"
      ]
     },
     "execution_count": 10,
     "metadata": {},
     "output_type": "execute_result"
    }
   ],
   "source": [
    "bfs(graph, (1,1), (4,5))"
   ]
  },
  {
   "cell_type": "code",
   "execution_count": null,
   "id": "4d5c5600",
   "metadata": {},
   "outputs": [],
   "source": []
  }
 ],
 "metadata": {
  "kernelspec": {
   "display_name": "Python 3 (ipykernel)",
   "language": "python",
   "name": "python3"
  },
  "language_info": {
   "codemirror_mode": {
    "name": "ipython",
    "version": 3
   },
   "file_extension": ".py",
   "mimetype": "text/x-python",
   "name": "python",
   "nbconvert_exporter": "python",
   "pygments_lexer": "ipython3",
   "version": "3.9.13"
  }
 },
 "nbformat": 4,
 "nbformat_minor": 5
}
