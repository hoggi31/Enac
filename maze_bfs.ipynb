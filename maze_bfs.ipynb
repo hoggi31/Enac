{
 "cells": [
  {
   "cell_type": "code",
   "execution_count": 13,
   "id": "51c8e582",
   "metadata": {},
   "outputs": [],
   "source": [
    "import random\n",
    "import time\n",
    "def bfs(maze, start):\n",
    "    queue = [(start, [start])]\n",
    "    visited = set()\n",
    "    while queue:\n",
    "        (current_row, current_col), path = queue.pop(0)\n",
    "        if maze[current_row][current_col] == \"S\":\n",
    "            return path\n",
    "        if (current_row, current_col) not in visited:\n",
    "            visited.add((current_row, current_col))\n",
    "            for (row_offset, col_offset) in [(-1, 0), (0, -1), (1, 0), (0, 1)]:\n",
    "                neighbor_row = current_row + row_offset\n",
    "                neighbor_col = current_col + col_offset\n",
    "                if (0 <= neighbor_row < len(maze) and\n",
    "                        0 <= neighbor_col < len(maze[0]) and\n",
    "                        maze[neighbor_row][neighbor_col] != 'X' and\n",
    "                        (neighbor_row, neighbor_col) not in visited):\n",
    "                    if maze[neighbor_row][neighbor_col] == 'E':\n",
    "                        # If the neighbor is an enchanted square, randomly teleport to another square\n",
    "                        teleport_row, teleport_col = teleport(maze, visited)\n",
    "                        queue.append(((teleport_row, teleport_col), path + [(teleport_row, teleport_col)]))\n",
    "                    else:\n",
    "                        # Otherwise, add the neighbor to the queue\n",
    "                        queue.append(((neighbor_row, neighbor_col), path + [(neighbor_row, neighbor_col)]))\n",
    "    # If no path was found, return None\n",
    "    return None\n",
    "\n",
    "\n",
    "def teleport(maze, visited):\n",
    "    # Find a random square that is not a wall or a visited square\n",
    "    while True:\n",
    "        teleport_row = random.randint(0, len(maze) - 1)\n",
    "        teleport_col = random.randint(0, len(maze[0]) - 1)\n",
    "        if maze[teleport_row][teleport_col] != 'X' and (teleport_row, teleport_col) not in visited:\n",
    "            return teleport_row, teleport_col"
   ]
  },
  {
   "cell_type": "code",
   "execution_count": 14,
   "id": "3bba7fc9",
   "metadata": {},
   "outputs": [],
   "source": [
    "graph = [\"X.XXXX.\",\n",
    "\"X.....E\",\n",
    "\"XXXXXX.\",\n",
    "\".......\",\n",
    "\"E.....S\",\n",
    "\".X.XXXX\"]"
   ]
  },
  {
   "cell_type": "code",
   "execution_count": 15,
   "id": "60dd3167",
   "metadata": {},
   "outputs": [],
   "source": [
    "path = bfs(graph, (1,1))"
   ]
  },
  {
   "cell_type": "code",
   "execution_count": 16,
   "id": "f973dccf",
   "metadata": {},
   "outputs": [],
   "source": [
    "import pygame\n"
   ]
  },
  {
   "cell_type": "code",
   "execution_count": 17,
   "id": "140e0eef",
   "metadata": {},
   "outputs": [],
   "source": [
    "# import required modules\n",
    "import pygame\n",
    "import sys\n",
    "\n",
    "# initialize pygame\n",
    "pygame.init()\n",
    "\n",
    "# define constants\n",
    "SCREEN_SIZE = (300, 300)\n",
    "WHITE = (255, 255, 255)\n",
    "BLACK = (0, 0, 0)\n",
    "PAWN_SIZE = 30\n",
    "PAWN_COLOR = (255, 0, 0)"
   ]
  },
  {
   "cell_type": "code",
   "execution_count": 18,
   "id": "3fbc638b",
   "metadata": {},
   "outputs": [],
   "source": [
    "# create the game window\n",
    "screen = pygame.display.set_mode(SCREEN_SIZE)\n",
    "pygame.display.set_caption(\"Three Chess Pawns Problem\")\n",
    "clock = pygame.time.Clock()\n",
    "\n",
    "# Draw the maze\n",
    "position_index = 0\n",
    "while position_index < (len(path)-1)  :\n",
    "    for i in range(6):\n",
    "        for j in range(7):\n",
    "            if graph[i][j] == \".\":\n",
    "                pygame.draw.rect(screen, (255, 0, 0), pygame.Rect(j * 30, i * 30, 30, 30))\n",
    "            if graph[i][j] == \"E\":\n",
    "                pygame.draw.rect(screen, (255, 255, 0), pygame.Rect(j * 30, i * 30, 30, 30))   \n",
    "            if graph[i][j] == \"S\":\n",
    "                pygame.draw.rect(screen, (255, 0, 255), pygame.Rect(j * 30, i * 30, 30, 30))  \n",
    "            if (i,j) == path[position_index]:\n",
    "                pygame.draw.rect(screen, (255, 255, 255), pygame.Rect(j * 30, i * 30, 30, 30))    \n",
    "    position_index += 1 \n",
    " \n",
    "    clock.tick(60)\n",
    "    time.sleep(1)\n",
    "    pygame.display.flip()\n",
    "    #pygame.display.update()\n",
    "\n",
    "pygame.quit()\n",
    "\n"
   ]
  },
  {
   "cell_type": "code",
   "execution_count": 20,
   "id": "7668688b",
   "metadata": {},
   "outputs": [
    {
     "name": "stdout",
     "output_type": "stream",
     "text": [
      "4\n"
     ]
    }
   ],
   "source": [
    "print(position_index)"
   ]
  },
  {
   "cell_type": "code",
   "execution_count": 8,
   "id": "17cdc814",
   "metadata": {},
   "outputs": [],
   "source": []
  },
  {
   "cell_type": "code",
   "execution_count": null,
   "id": "468e5ecc",
   "metadata": {},
   "outputs": [],
   "source": []
  }
 ],
 "metadata": {
  "kernelspec": {
   "display_name": "Python 3 (ipykernel)",
   "language": "python",
   "name": "python3"
  },
  "language_info": {
   "codemirror_mode": {
    "name": "ipython",
    "version": 3
   },
   "file_extension": ".py",
   "mimetype": "text/x-python",
   "name": "python",
   "nbconvert_exporter": "python",
   "pygments_lexer": "ipython3",
   "version": "3.9.13"
  }
 },
 "nbformat": 4,
 "nbformat_minor": 5
}
