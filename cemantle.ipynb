{
 "cells": [
  {
   "cell_type": "code",
   "execution_count": 2,
   "id": "aa0882e4",
   "metadata": {},
   "outputs": [],
   "source": [
    "import gensim"
   ]
  },
  {
   "cell_type": "markdown",
   "id": "8029843e",
   "metadata": {},
   "source": [
    "## Import du model\n",
    "\n",
    "https://github.com/alexandres/lexvec#pre-trained-vectors\n",
    "\n",
    "\n",
    "https://nlp.stanford.edu/projects/glove/\n",
    "\n",
    "http://vectors.nlpl.eu/repository/\n"
   ]
  },
  {
   "cell_type": "code",
   "execution_count": 3,
   "id": "63059494",
   "metadata": {},
   "outputs": [],
   "source": [
    "model = gensim.models.KeyedVectors.load_word2vec_format(r\"C:\\Users\\cgoub\\Downloads\\lexvec.commoncrawl.300d.W.pos.vectors.gz\", binary=False)\n",
    "\n",
    "# model = gensim.models.KeyedVectors.load_word2vec_format(r\"C:\\Users\\cgoub\\Downloads\\4\\model.bin\", binary=True)"
   ]
  },
  {
   "cell_type": "code",
   "execution_count": 4,
   "id": "050db05f",
   "metadata": {},
   "outputs": [],
   "source": [
    "vector = model['test']"
   ]
  },
  {
   "cell_type": "code",
   "execution_count": 5,
   "id": "ce1e07fc",
   "metadata": {},
   "outputs": [
    {
     "name": "stderr",
     "output_type": "stream",
     "text": [
      "C:\\Users\\cgoub\\anaconda3\\lib\\site-packages\\gensim\\models\\keyedvectors.py:783: RuntimeWarning: invalid value encountered in true_divide\n",
      "  dists = dot(self.vectors[clip_start:clip_end], mean) / self.norms[clip_start:clip_end]\n"
     ]
    },
    {
     "data": {
      "text/plain": [
       "[('test', 0.9999998807907104),\n",
       " ('tests', 0.8309965133666992),\n",
       " ('testing', 0.7831986546516418),\n",
       " ('exam', 0.5753476619720459),\n",
       " ('exams', 0.5637252926826477),\n",
       " ('examination', 0.5299032926559448),\n",
       " ('tested', 0.5228461623191833),\n",
       " ('examinations', 0.4998053014278412),\n",
       " ('tester', 0.49660125374794006),\n",
       " ('testers', 0.4799392819404602),\n",
       " ('quiz', 0.4796805679798126)]"
      ]
     },
     "execution_count": 5,
     "metadata": {},
     "output_type": "execute_result"
    }
   ],
   "source": [
    "model.most_similar([vector], topn=11)"
   ]
  },
  {
   "cell_type": "code",
   "execution_count": 6,
   "id": "e7fa40e1",
   "metadata": {},
   "outputs": [],
   "source": [
    "import random\n",
    "\n"
   ]
  },
  {
   "cell_type": "markdown",
   "id": "294553b9",
   "metadata": {},
   "source": [
    "## Cemantle"
   ]
  },
  {
   "cell_type": "code",
   "execution_count": 7,
   "id": "76f23c70",
   "metadata": {},
   "outputs": [],
   "source": [
    "import requests\n",
    "import heapq"
   ]
  },
  {
   "cell_type": "code",
   "execution_count": 35,
   "id": "98bc3ec2",
   "metadata": {},
   "outputs": [
    {
     "name": "stdout",
     "output_type": "stream",
     "text": [
      "[(-0.2011, ['participatory']), (-0.1261, ['biannual']), (-0.1071, ['anorectal']), (-0.0554, ['fatwah']), (-0.0687, ['unconsecrated']), (-0.0325, ['illuminance']), (-0.0953, ['unoriginal']), (0.0198, ['vas']), (-0.0258, ['gazillion']), (-0.0379, ['elasticized'])]\n"
     ]
    }
   ],
   "source": [
    "heap = []\n",
    "visited = set()\n",
    "random_words = []\n",
    "\n",
    "\n",
    "while len(heap) < 10:\n",
    "    w = random.sample(model.index_to_key, 1)\n",
    "    r = requests.post('https://cemantle.certitudes.org/score', data={\"word\":str(w)})\n",
    "    result = r.json()\n",
    "    score = result.get(\"score\",None)\n",
    "    if score:\n",
    "        heapq.heappush(heap, (-score,w))\n",
    "    \n",
    "\n",
    "print(heap)\n",
    "\n",
    "        \n",
    "        "
   ]
  },
  {
   "cell_type": "code",
   "execution_count": 36,
   "id": "bcd7104c",
   "metadata": {},
   "outputs": [],
   "source": [
    "word1 = heapq.heappop(heap)[1]"
   ]
  },
  {
   "cell_type": "code",
   "execution_count": 37,
   "id": "84799820",
   "metadata": {},
   "outputs": [
    {
     "name": "stdout",
     "output_type": "stream",
     "text": [
      "['participatory']\n"
     ]
    }
   ],
   "source": [
    "print(word1)\n",
    "word1 =word1[0]"
   ]
  },
  {
   "cell_type": "code",
   "execution_count": 38,
   "id": "fd28e084",
   "metadata": {},
   "outputs": [
    {
     "name": "stdout",
     "output_type": "stream",
     "text": [
      "node : conceptualisation 34.14\n",
      "node : conceptualise 47.44\n",
      "node : conceptualize 47.44\n",
      "formulate\n",
      "win !!!\n"
     ]
    }
   ],
   "source": [
    "visited = set()\n",
    "inserted = set()\n",
    "heap = []\n",
    "\n",
    "for i in range(1000):\n",
    "    \n",
    "    vector = [word1]\n",
    "    \n",
    "    candidates = model.most_similar(vector, topn=50)\n",
    "    for w, per in candidates: \n",
    "        r = requests.post('https://cemantle.certitudes.org/score', data={\"word\":str(w)})\n",
    "        result = r.json()\n",
    "        score = result.get(\"score\",None)\n",
    "        \n",
    "        if score and (w not in visited):\n",
    "            if w not in inserted:\n",
    "                heapq.heappush(heap, (-score,w))\n",
    "                inserted.add(w)\n",
    "    score, word1 = heapq.heappop(heap)\n",
    "    if score == -1:\n",
    "        print(word1)\n",
    "        print(\"win !!!\")\n",
    "        break\n",
    "    visited.add(word1)\n",
    "    print(f\"node : {word1} {(-score)*100}\")"
   ]
  },
  {
   "cell_type": "code",
   "execution_count": 25,
   "id": "8bebc807",
   "metadata": {},
   "outputs": [
    {
     "name": "stdout",
     "output_type": "stream",
     "text": [
      "[(-4149.377593360996, 'apse'), (-3731.3432835820895, 'reredos'), (-3984.06374501992, 'balletic'), (-3717.472118959108, 'arched'), (-3610.1083032490974, 'statue'), (-3846.153846153846, 'luge'), (-3906.25, 'columned'), (-3690.036900369004, 'chancel'), (-3521.1267605633802, 'breaststroke'), (-2207.5055187637968, 'porcelain'), (-2341.9203747072597, 'steeplechase'), (-2717.391304347826, 'balcony'), (814.3322475570033, 'bauxite'), (-3322.259136212625, 'headstone'), (-3731.3432835820895, 'facade'), (-3012.0481927710844, 'awning'), (-1834.8623853211009, 'skater'), (-2242.152466367713, 'gambrel'), (-2739.7260273972606, 'platinum'), (-2008.0321285140562, 'copper'), (2309.4688221709007, 'crockery'), (527.4261603375528, 'springboard'), (2747.252747252747, 'floor'), (-2717.391304347826, 'obelisk'), (-2666.666666666667, 'escalator'), (1257.8616352201257, 'vestry'), (1483.679525222552, 'selenium'), (1160.092807424594, 'arsenic'), (-2638.5224274406332, 'sprinter'), (-1132.502831257078, 'leaping'), (-3164.5569620253164, 'titanium'), (1472.7540500736377, 'tiled'), (2538.0710659898477, 'alleyway'), (1686.3406408094436, 'epitaph'), (1512.85930408472, 'olympian'), (-1801.8018018018017, 'gable'), (-1869.1588785046729, 'silver'), (5586.59217877095, 'stair'), (1615.5088852988692, 'bullion'), (4366.812227074236, 'diamond'), (-1763.668430335097, 'pommel'), (5917.15976331361, 'crucifix'), (6410.25641025641, 'window'), (3174.6031746031745, 'monument'), (1251.5644555694619, 'judo'), (4629.62962962963, 'cathedral'), (3322.259136212625, 'bathroom'), (2617.801047120419, 'volleyball'), (-2518.891687657431, 'rink'), (6024.096385542169, 'hockey'), (2857.142857142857, 'contortion'), (3246.7532467532465, 'verandah'), (1697.792869269949, 'manganese'), (3333.3333333333335, 'magnesium'), (2673.79679144385, 'basilica'), (1792.1146953405016, 'bismuth'), (1375.515818431912, 'beryllium'), (2358.490566037736, 'architrave'), (1461.9883040935672, 'trioxide'), (2570.694087403599, 'refectory'), (1540.8320493066255, 'footwork'), (-2066.115702479339, 'spectacular'), (1751.3134851138354, 'steel'), (1855.2875695732837, 'mausoleum'), (4081.632653061224, 'altarpiece'), (2898.550724637681, 'tracery'), (3311.2582781456954, 'weightlifter'), (6711.4093959731545, 'champion'), (1721.170395869191, 'mullioned'), (11627.906976744185, 'mansard'), (6250.0, 'inscription'), (4975.124378109453, 'vaulted'), (2222.222222222222, 'commendation'), (4098.360655737704, 'narthex'), (2032.520325203252, 'meritorious'), (9900.990099009901, 'athlete'), (7194.244604316547, 'baptistery'), (2252.252252252252, 'fencer'), (47619.04761904762, 'reliquary'), (58823.529411764706, 'entryway'), (15151.515151515152, 'hallway'), (25641.02564102564, 'earthenware'), (4000.0, 'lacquer'), (16666.666666666668, 'vestibule'), (22727.272727272724, 'ceramic'), (12195.121951219511, 'medley'), (6666.666666666667, 'relay'), (500000.0, 'nave'), (11764.70588235294, 'butterfly'), (8771.929824561403, 'staircase'), (1904.7619047619048, 'weightlifting'), (7692.307692307692, 'casket'), (37037.03703703704, 'trampoline'), (9009.009009009009, 'softball'), (7194.244604316547, 'necropolis'), (3125.0, 'basement'), (3246.7532467532465, 'church'), (2564.102564102564, 'dressage'), (2949.8525073746314, 'skate'), (31250.0, 'walkway'), (32258.064516129034, 'clowning'), (13333.333333333334, 'hurdling'), (55555.555555555555, 'niobium'), (9615.384615384615, 'balustrade'), (3333.3333333333335, 'molybdenum'), (3344.4816053511704, 'rectory'), (3533.5689045936397, 'thallium'), (10752.688172043012, 'cloister'), (4184.100418410042, 'chromium'), (11111.111111111111, 'veranda'), (10638.297872340425, 'cadmium'), (6250.0, 'parapet'), (3676.470588235294, 'germanium'), (4273.504273504273, 'pediment'), (1658.374792703151, 'roofed'), (4032.2580645161293, 'stela'), (3906.25, 'tellurium'), (2710.0271002710024, 'entablature'), (1865.6716417910447, 'vanadium'), (5586.59217877095, 'buried'), (2873.5632183908046, 'courtyard'), (3246.7532467532465, 'colonnaded'), (12820.51282051282, 'superb'), (4424.778761061947, 'deft'), (2994.011976047904, 'alloy'), (12048.192771084337, 'thrower'), (5263.1578947368425, 'fiberglass'), (2375.2969121140145, 'laminate'), (1941.747572815534, 'alumina')]\n"
     ]
    }
   ],
   "source": [
    "print(heap)"
   ]
  },
  {
   "cell_type": "code",
   "execution_count": 129,
   "id": "26de010f",
   "metadata": {},
   "outputs": [],
   "source": [
    "random_words = random.sample(model.index_to_key, 2)\n",
    "candidates = model.most_similar(vector, topn=2)\n"
   ]
  },
  {
   "cell_type": "code",
   "execution_count": 21,
   "id": "201ebdd9",
   "metadata": {},
   "outputs": [
    {
     "name": "stdout",
     "output_type": "stream",
     "text": [
      "2.0\n",
      "0.5\n",
      "-2.0\n"
     ]
    }
   ],
   "source": [
    "print(1/0.5)\n",
    "print(1/2)\n",
    "print(1/(-0.5))"
   ]
  },
  {
   "cell_type": "code",
   "execution_count": null,
   "id": "f274ea08",
   "metadata": {},
   "outputs": [],
   "source": []
  }
 ],
 "metadata": {
  "kernelspec": {
   "display_name": "Python 3 (ipykernel)",
   "language": "python",
   "name": "python3"
  },
  "language_info": {
   "codemirror_mode": {
    "name": "ipython",
    "version": 3
   },
   "file_extension": ".py",
   "mimetype": "text/x-python",
   "name": "python",
   "nbconvert_exporter": "python",
   "pygments_lexer": "ipython3",
   "version": "3.9.13"
  }
 },
 "nbformat": 4,
 "nbformat_minor": 5
}
