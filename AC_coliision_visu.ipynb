{
 "cells": [
  {
   "cell_type": "code",
   "execution_count": 1,
   "id": "f5269e57",
   "metadata": {},
   "outputs": [
    {
     "name": "stdout",
     "output_type": "stream",
     "text": [
      "pygame 2.2.0 (SDL 2.0.22, Python 3.9.13)\n",
      "Hello from the pygame community. https://www.pygame.org/contribute.html\n"
     ]
    }
   ],
   "source": [
    "import pygame\n",
    "\n",
    "# Set up the Pygame window\n",
    "pygame.init()\n",
    "screen_width, screen_height = 800, 600\n",
    "screen = pygame.display.set_mode((screen_width, screen_height))\n",
    "pygame.display.set_caption(\"Aircraft Trajectories\")\n",
    "\n",
    "# Define the aircraft class\n",
    "class Aircraft:\n",
    "    def __init__(self, x, y, speed):\n",
    "        self.x = x\n",
    "        self.y = y\n",
    "        self.speed = speed\n",
    "\n",
    "    def move(self, dx, dy):\n",
    "        self.x += dx * self.speed\n",
    "        self.y += dy * self.speed\n",
    "\n",
    "    def draw(self, screen):\n",
    "        pygame.draw.circle(screen, (255, 0, 0), (int(self.x), int(self.y)), 10)\n",
    "\n",
    "# Create two aircraft objects\n",
    "aircraft1 = Aircraft(100, 100, 1)\n",
    "aircraft2 = Aircraft(700, 500, 1)\n",
    "\n",
    "# Define the trajectories of the aircraft\n",
    "trajectory1 = [(100, 100), (400, 300), (500, 200), (700, 100)]\n",
    "trajectory2 = [(700, 500), (400, 200), (200, 300), (100, 500)]\n",
    "\n",
    "# Define the index of the current waypoint for each aircraft\n",
    "waypoint_index1 = 0\n",
    "waypoint_index2 = 0\n",
    "\n",
    "# Set up the game loop\n",
    "running = True\n",
    "clock = pygame.time.Clock()\n",
    "\n",
    "while running:\n",
    "    # Handle events\n",
    "    for event in pygame.event.get():\n",
    "        if event.type == pygame.QUIT:\n",
    "            running = False\n",
    "\n",
    "    # Move the aircraft towards their current waypoint\n",
    "    if waypoint_index1 < len(trajectory1):\n",
    "        waypoint_x, waypoint_y = trajectory1[waypoint_index1]\n",
    "        dx = waypoint_x - aircraft1.x\n",
    "        dy = waypoint_y - aircraft1.y\n",
    "        dist = ((dx ** 2) + (dy ** 2)) ** 0.5\n",
    "        if dist < aircraft1.speed:\n",
    "            waypoint_index1 += 1\n",
    "        else:\n",
    "            aircraft1.move(dx / dist, dy / dist)\n",
    "\n",
    "    if waypoint_index2 < len(trajectory2):\n",
    "        waypoint_x, waypoint_y = trajectory2[waypoint_index2]\n",
    "        dx = waypoint_x - aircraft2.x\n",
    "        dy = waypoint_y - aircraft2.y\n",
    "        dist = ((dx ** 2) + (dy ** 2)) ** 0.5\n",
    "        if dist < aircraft2.speed:\n",
    "            waypoint_index2 += 1\n",
    "        else:\n",
    "            aircraft2.move(dx / dist, dy / dist)\n",
    "\n",
    "    # Draw the aircraft and the waypoints\n",
    "    screen.fill((255, 255, 255))\n",
    "    for waypoint_x, waypoint_y in trajectory1 + trajectory2:\n",
    "        pygame.draw.circle(screen, (0, 0, 255), (int(waypoint_x), int(waypoint_y)), 5)\n",
    "    aircraft1.draw(screen)\n",
    "    aircraft2.draw(screen)\n",
    "    pygame.display.flip()\n",
    "\n",
    "    # Limit the frame rate\n",
    "    clock.tick(60)\n",
    "\n",
    "# Clean up\n",
    "pygame.quit()"
   ]
  },
  {
   "cell_type": "code",
   "execution_count": null,
   "id": "81afe409",
   "metadata": {},
   "outputs": [],
   "source": []
  }
 ],
 "metadata": {
  "kernelspec": {
   "display_name": "Python 3 (ipykernel)",
   "language": "python",
   "name": "python3"
  },
  "language_info": {
   "codemirror_mode": {
    "name": "ipython",
    "version": 3
   },
   "file_extension": ".py",
   "mimetype": "text/x-python",
   "name": "python",
   "nbconvert_exporter": "python",
   "pygments_lexer": "ipython3",
   "version": "3.9.13"
  }
 },
 "nbformat": 4,
 "nbformat_minor": 5
}
